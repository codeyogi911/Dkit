{
 "cells": [
  {
   "cell_type": "markdown",
   "metadata": {},
   "source": [
    "# Create Dataset"
   ]
  },
  {
   "cell_type": "markdown",
   "metadata": {},
   "source": [
    "## Create basic Params\n",
    "Creating the basic dataset attributes."
   ]
  },
  {
   "cell_type": "code",
   "execution_count": 1,
   "metadata": {},
   "outputs": [],
   "source": [
    "folder_name = 'ikea_drill_screw'\n",
    "TRAIN_COUNT = 800\n",
    "VAL_COUNT = 200\n",
    "IMAGE_SIZE = 1024\n",
    "INPUT_PATH = '../datasets/{}/input'.format(folder_name)\n",
    "VAL_PATH = '../datasets/{}/val'.format(folder_name)\n",
    "TRAIN_PATH = '../datasets/{}/train'.format(folder_name)\n",
    "DI_PATH = INPUT_PATH + '/dataset_info.json'"
   ]
  },
  {
   "cell_type": "markdown",
   "metadata": {},
   "source": [
    "## Create Training Set"
   ]
  },
  {
   "cell_type": "code",
   "execution_count": null,
   "metadata": {},
   "outputs": [
    {
     "name": "stdout",
     "output_type": "stream",
     "text": [
      "../src/image_composition.py:197: UserWarning: file found in foregrounds directory (expected super-category directories), ignoring: ../datasets/ikea_drill_screw/input/foregrounds/.DS_Store\n",
      "  warnings.warn(f'file found in foregrounds directory (expected super-category directories), ignoring: {super_category_dir}')\n",
      "../src/image_composition.py:203: UserWarning: file found in super category directory (expected category directories), ignoring: ../datasets/ikea_drill_screw/input/foregrounds/instruments/.DS_Store\n",
      "  warnings.warn(f'file found in super category directory (expected category directories), ignoring: {category_dir}')\n",
      "../src/image_composition.py:212: UserWarning: foreground must be a .png file, skipping: ../datasets/ikea_drill_screw/input/foregrounds/instruments/screw/.DS_Store\n",
      "  warnings.warn(f'foreground must be a .png file, skipping: {str(image_file)}')\n",
      "../src/image_composition.py:237: UserWarning: background must match an accepted type ['.png', '.jpg', '.jpeg'], ignoring: ../datasets/ikea_drill_screw/input/backgrounds/.DS_Store\n",
      "  warnings.warn(f'background must match an accepted type {str(self.allowed_background_types)}, ignoring: {image_file}')\n",
      "Generating 800 images with masks...\n",
      "100%|█████████████████████████████████████████| 800/800 [02:46<00:00,  4.81it/s]\n",
      "Image composition completed.\n",
      "Processing 800 mask definitions...\n",
      " 33%|█████████████▍                           | 263/800 [09:42<17:39,  1.97s/it]"
     ]
    }
   ],
   "source": [
    "MASK_DEF_PATH = TRAIN_PATH + '/mask_definitions.json'\n",
    "#Generate the images\n",
    "!python3 ../src/image_composition.py --input_dir {INPUT_PATH} --output_dir {TRAIN_PATH} --count {TRAIN_COUNT} --width {IMAGE_SIZE} --height {IMAGE_SIZE} --silent\n",
    "#Generate the annotaions json\n",
    "!python3 ../src/coco_json_utils.py -md {MASK_DEF_PATH} -di {DI_PATH}"
   ]
  },
  {
   "cell_type": "markdown",
   "metadata": {},
   "source": [
    "## Create Validation Set"
   ]
  },
  {
   "cell_type": "code",
   "execution_count": null,
   "metadata": {},
   "outputs": [],
   "source": [
    "MASK_DEF_PATH = VAL_PATH + '/mask_definitions.json'\n",
    "DI_PATH = INPUT_PATH + '/dataset_info.json'\n",
    "#Generate the images\n",
    "!python3 ../src/image_composition.py --input_dir {INPUT_PATH} --output_dir {VAL_PATH} --count {VAL_COUNT} --width {IMAGE_SIZE} --height {IMAGE_SIZE} --silent\n",
    "#Generate the annotaions json\n",
    "!python3 ../src/coco_json_utils.py -md {MASK_DEF_PATH} -di {DI_PATH}\n"
   ]
  },
  {
   "cell_type": "markdown",
   "metadata": {},
   "source": [
    "## Preview the generated datasets"
   ]
  },
  {
   "cell_type": "code",
   "execution_count": null,
   "metadata": {},
   "outputs": [],
   "source": [
    "import os\n",
    "import sys\n",
    "import numpy as np\n",
    "ROOT_DIR = os.path.abspath(\"../\")\n",
    "sys.path.append(ROOT_DIR)  # To find local version of the library\n",
    "from src import coco_trainer\n",
    "from mrcnn import visualize\n",
    "\n",
    "\n",
    "dataset_train = coco_trainer.CocoLikeDataset()\n",
    "dataset_train.load_data(TRAIN_PATH+'/coco_instances.json',TRAIN_PATH+'/images')\n",
    "dataset_train.prepare()\n",
    "\n",
    "dataset_val = coco_trainer.CocoLikeDataset()\n",
    "dataset_val.load_data(VAL_PATH+'/coco_instances.json',VAL_PATH+'/images')\n",
    "dataset_val.prepare()"
   ]
  },
  {
   "cell_type": "code",
   "execution_count": null,
   "metadata": {},
   "outputs": [],
   "source": [
    "for name, dataset in [('training', dataset_train), ('validation', dataset_val)]:\n",
    "    print(f'Displaying examples from {name} dataset:')\n",
    "    \n",
    "    image_ids = np.random.choice(dataset.image_ids, 3)\n",
    "    for image_id in image_ids:\n",
    "        image = dataset.load_image(image_id)\n",
    "        mask, class_ids = dataset.load_mask(image_id)\n",
    "        visualize.display_top_masks(image, mask, class_ids, dataset.class_names)"
   ]
  },
  {
   "cell_type": "markdown",
   "metadata": {},
   "source": [
    "## Sync to S3"
   ]
  },
  {
   "cell_type": "code",
   "execution_count": null,
   "metadata": {},
   "outputs": [],
   "source": [
    "!aws s3 sync ../datasets s3://dkitdatasets --delete"
   ]
  },
  {
   "cell_type": "markdown",
   "metadata": {},
   "source": [
    "# Check if training works locally"
   ]
  },
  {
   "cell_type": "code",
   "execution_count": null,
   "metadata": {},
   "outputs": [],
   "source": [
    "# !python3 ../src/coco_trainer.py train --dataset=../datasets/ikea_drill_screw --weights=coco --layers2train=heads"
   ]
  },
  {
   "cell_type": "markdown",
   "metadata": {},
   "source": [
    "# Train Model in AWS"
   ]
  },
  {
   "cell_type": "code",
   "execution_count": null,
   "metadata": {},
   "outputs": [],
   "source": [
    "!cd ../src/scripts && \\\n",
    "bash start-training.sh all"
   ]
  },
  {
   "cell_type": "code",
   "execution_count": null,
   "metadata": {},
   "outputs": [],
   "source": []
  }
 ],
 "metadata": {
  "kernelspec": {
   "display_name": "Cocosynth",
   "language": "python",
   "name": "cocosynth"
  },
  "language_info": {
   "codemirror_mode": {
    "name": "ipython",
    "version": 3
   },
   "file_extension": ".py",
   "mimetype": "text/x-python",
   "name": "python",
   "nbconvert_exporter": "python",
   "pygments_lexer": "ipython3",
   "version": "3.7.4"
  }
 },
 "nbformat": 4,
 "nbformat_minor": 2
}
