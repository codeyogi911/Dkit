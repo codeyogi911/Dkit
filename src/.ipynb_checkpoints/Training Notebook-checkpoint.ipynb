{
 "cells": [
  {
   "cell_type": "markdown",
   "metadata": {},
   "source": [
    "# Fireup the Server\n",
    "EC2\n",
    "Instance Type : p2.xlarge\n"
   ]
  },
  {
   "cell_type": "code",
   "execution_count": 1,
   "metadata": {},
   "outputs": [
    {
     "name": "stdout",
     "output_type": "stream",
     "text": [
      "Starting \"dkit-trainer\"...\n",
      "Machine \"dkit-trainer\" was started.\n",
      "Waiting for SSH to be available...\n",
      "Detecting the provisioner...\n",
      "Started machines may have new IP addresses. You may need to re-run the `docker-machine env` command.\n"
     ]
    }
   ],
   "source": [
    "!docker-machine start dkit-trainer"
   ]
  },
  {
   "cell_type": "markdown",
   "metadata": {},
   "source": [
    "# Sync the dataset"
   ]
  },
  {
   "cell_type": "code",
   "execution_count": 2,
   "metadata": {},
   "outputs": [
    {
     "name": "stdout",
     "output_type": "stream",
     "text": [
      "upload: ../../../Datasets/.DS_Store to s3://dkitdatasets/.DS_Store                 \n",
      "                                                                                   \n",
      "download: s3://dkitdatasets/.DS_Store to Dkit/datasets/.DS_Store\n"
     ]
    }
   ],
   "source": [
    "!aws s3 sync /Users/shashwatjain/OneDrive\\ -\\ BIT\\ Consulting\\ GmbH/Datasets s3://dkitdatasets\n",
    "!docker-machine ssh dkit-trainer aws s3 sync s3://dkitdatasets /home/ubuntu/Dkit/datasets/"
   ]
  },
  {
   "cell_type": "markdown",
   "metadata": {},
   "source": [
    "# Start Training Job"
   ]
  },
  {
   "cell_type": "code",
   "execution_count": 3,
   "metadata": {},
   "outputs": [
    {
     "name": "stdout",
     "output_type": "stream",
     "text": [
      "Dkit/src/start-training.sh: 1: Dkit/src/start-training.sh: source: not found\n",
      "python3: can't open file 'dkit.py': [Errno 2] No such file or directory\n",
      "exit status 2\n"
     ]
    }
   ],
   "source": [
    "!docker-machine ssh dkit-trainer bash Dkit/src/start-training.sh"
   ]
  },
  {
   "cell_type": "markdown",
   "metadata": {},
   "source": [
    "# Store weights to S3"
   ]
  },
  {
   "cell_type": "code",
   "execution_count": null,
   "metadata": {},
   "outputs": [],
   "source": [
    "!docker-machine ssh dkit-trainer aws s3 sync /home/ubuntu/Dkit/logs/ s3://dkitlogs"
   ]
  }
 ],
 "metadata": {
  "kernelspec": {
   "display_name": "Python 3",
   "language": "python",
   "name": "python3"
  },
  "language_info": {
   "codemirror_mode": {
    "name": "ipython",
    "version": 3
   },
   "file_extension": ".py",
   "mimetype": "text/x-python",
   "name": "python",
   "nbconvert_exporter": "python",
   "pygments_lexer": "ipython3",
   "version": "3.7.3"
  }
 },
 "nbformat": 4,
 "nbformat_minor": 2
}
